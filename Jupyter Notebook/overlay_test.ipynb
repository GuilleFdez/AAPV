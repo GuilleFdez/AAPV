{
 "cells": [
  {
   "cell_type": "code",
   "execution_count": 38,
   "metadata": {},
   "outputs": [],
   "source": [
    "# Importa el overlay creado (La carpeta debe incluir el .bit, .hwh y .tcl con el mismo nombre)\n",
    "\n",
    "from pynq import Overlay\n",
    "import numpy as np\n",
    "import pynq.lib.dma\n",
    "\n",
    "aapvol = Overlay('/home/xilinx/pynq/overlays/aapv/aapv.bit')\n",
    "\n",
    "dma0 = aapvol.axi_dma_0\n",
    "dma1 = aapvol.axi_dma_1"
   ]
  },
  {
   "cell_type": "code",
   "execution_count": 39,
   "metadata": {},
   "outputs": [
    {
     "name": "stderr",
     "output_type": "stream",
     "text": [
      "/usr/lib/python3/dist-packages/ipykernel_launcher.py:2: DeprecationWarning: pynq.Xlnk is deprecated and will be removed in 2.7 - use pynq.allocate instead\n",
      "  \n"
     ]
    }
   ],
   "source": [
    "from pynq import Xlnk\n",
    "xlnk = Xlnk()"
   ]
  },
  {
   "cell_type": "code",
   "execution_count": 40,
   "metadata": {},
   "outputs": [],
   "source": [
    "avg = xlnk.cma_array(shape=(500,500), dtype=np.float)\n",
    "cnt = xlnk.cma_array(shape=(500,500), dtype=np.int)\n",
    "res = xlnk.cma_array(shape=(500,500), dtype=np.float)\n",
    "\n",
    "for i in range(32):\n",
    "    for j in range(32):\n",
    "        avg[i][j] = 80;\n",
    "        cnt[i][j] = 2;"
   ]
  },
  {
   "cell_type": "code",
   "execution_count": 41,
   "metadata": {},
   "outputs": [
    {
     "ename": "ValueError",
     "evalue": "Transfer size is 2000000 bytes, which exceeds the maximum DMA buffer size 16383.",
     "output_type": "error",
     "traceback": [
      "\u001b[0;31m---------------------------------------------------------------------------\u001b[0m",
      "\u001b[0;31mValueError\u001b[0m                                Traceback (most recent call last)",
      "\u001b[0;32m<ipython-input-41-d2879a06626c>\u001b[0m in \u001b[0;36m<module>\u001b[0;34m()\u001b[0m\n\u001b[0;32m----> 1\u001b[0;31m \u001b[0mdma0\u001b[0m\u001b[0;34m.\u001b[0m\u001b[0msendchannel\u001b[0m\u001b[0;34m.\u001b[0m\u001b[0mtransfer\u001b[0m\u001b[0;34m(\u001b[0m\u001b[0mavg\u001b[0m\u001b[0;34m)\u001b[0m\u001b[0;34m\u001b[0m\u001b[0m\n\u001b[0m\u001b[1;32m      2\u001b[0m \u001b[0mdma1\u001b[0m\u001b[0;34m.\u001b[0m\u001b[0msendchannel\u001b[0m\u001b[0;34m.\u001b[0m\u001b[0mtransfer\u001b[0m\u001b[0;34m(\u001b[0m\u001b[0mcnt\u001b[0m\u001b[0;34m)\u001b[0m\u001b[0;34m\u001b[0m\u001b[0m\n\u001b[1;32m      3\u001b[0m \u001b[0mdma0\u001b[0m\u001b[0;34m.\u001b[0m\u001b[0mrecvchannel\u001b[0m\u001b[0;34m.\u001b[0m\u001b[0mtransfer\u001b[0m\u001b[0;34m(\u001b[0m\u001b[0mres\u001b[0m\u001b[0;34m)\u001b[0m\u001b[0;34m\u001b[0m\u001b[0m\n",
      "\u001b[0;32m/usr/local/lib/python3.6/dist-packages/pynq/lib/dma.py\u001b[0m in \u001b[0;36mtransfer\u001b[0;34m(self, array, start, nbytes)\u001b[0m\n\u001b[1;32m    178\u001b[0m             raise ValueError('Transfer size is {} bytes, which exceeds '\n\u001b[1;32m    179\u001b[0m                              'the maximum DMA buffer size {}.'.format(\n\u001b[0;32m--> 180\u001b[0;31m                               nbytes, self._max_size))\n\u001b[0m\u001b[1;32m    181\u001b[0m \u001b[0;34m\u001b[0m\u001b[0m\n\u001b[1;32m    182\u001b[0m         \u001b[0;32mif\u001b[0m \u001b[0;32mnot\u001b[0m \u001b[0mself\u001b[0m\u001b[0;34m.\u001b[0m\u001b[0m_dre\u001b[0m \u001b[0;32mand\u001b[0m\u001b[0;31m \u001b[0m\u001b[0;31m\\\u001b[0m\u001b[0;34m\u001b[0m\u001b[0m\n",
      "\u001b[0;31mValueError\u001b[0m: Transfer size is 2000000 bytes, which exceeds the maximum DMA buffer size 16383."
     ]
    }
   ],
   "source": [
    "dma0.sendchannel.transfer(avg)\n",
    "dma1.sendchannel.transfer(cnt)\n",
    "dma0.recvchannel.transfer(res)"
   ]
  },
  {
   "cell_type": "code",
   "execution_count": 33,
   "metadata": {},
   "outputs": [
    {
     "name": "stdout",
     "output_type": "stream",
     "text": [
      "[[0.3125 0.3125 0.3125 ... 0.3125 0.3125 0.3125]\n",
      " [0.3125 0.3125 0.3125 ... 0.3125 0.3125 0.3125]\n",
      " [0.3125 0.3125 0.3125 ... 0.3125 0.3125 0.3125]\n",
      " ...\n",
      " [0.     0.     0.     ... 0.     0.     0.    ]\n",
      " [0.     0.     0.     ... 0.     0.     0.    ]\n",
      " [0.     0.     0.     ... 0.     0.     0.    ]]\n"
     ]
    }
   ],
   "source": [
    "print(res)"
   ]
  },
  {
   "cell_type": "code",
   "execution_count": null,
   "metadata": {},
   "outputs": [],
   "source": []
  }
 ],
 "metadata": {
  "kernelspec": {
   "display_name": "Python 3",
   "language": "python",
   "name": "python3"
  },
  "language_info": {
   "codemirror_mode": {
    "name": "ipython",
    "version": 3
   },
   "file_extension": ".py",
   "mimetype": "text/x-python",
   "name": "python",
   "nbconvert_exporter": "python",
   "pygments_lexer": "ipython3",
   "version": "3.8.5"
  }
 },
 "nbformat": 4,
 "nbformat_minor": 2
}
